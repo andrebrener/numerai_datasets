{
 "cells": [
  {
   "cell_type": "code",
   "execution_count": null,
   "metadata": {
    "collapsed": false,
    "deletable": true,
    "editable": true
   },
   "outputs": [],
   "source": [
    "import pandas as pd\n",
    "import numpy as np\n",
    "import time\n",
    "from sklearn.svm import SVR\n",
    "from sklearn.metrics import mean_squared_error, log_loss\n",
    "from sklearn.ensemble import GradientBoostingRegressor, RandomForestRegressor\n",
    "from sklearn.grid_search import GridSearchCV\n",
    "from sklearn.naive_bayes import MultinomialNB\n",
    "from sklearn.model_selection import train_test_split"
   ]
  },
  {
   "cell_type": "code",
   "execution_count": null,
   "metadata": {
    "collapsed": true,
    "deletable": true,
    "editable": true
   },
   "outputs": [],
   "source": [
    "def get_files(top_quant, mh_quant, ml_quant, low_quant):\n",
    "    file_path = 'data/cats_{}_{}_{}_{}'.format(top_quant, mh_quant, ml_quant, low_quant)\n",
    "    X = pd.read_csv('{}/train_table.csv'.format(file_path))\n",
    "    y = pd.read_csv('{}/target.csv'.format(file_path))\n",
    "    X_final = pd.read_csv('{}/tournament_table.csv'.format(file_path))\n",
    "    ids = pd.read_csv('{}/ids.csv'.format(file_path))\n",
    "    return file_path, X, y, X_final, ids"
   ]
  },
  {
   "cell_type": "code",
   "execution_count": null,
   "metadata": {
    "collapsed": true,
    "deletable": true,
    "editable": true
   },
   "outputs": [],
   "source": [
    "def pick_best_model_parameters(model, parameters, X_train, y_train):\n",
    "    clf = GridSearchCV(model, parameters, cv=4, n_jobs=-1)\n",
    "    clf.fit(X_train, y_train)\n",
    "    print(clf.best_params_)\n",
    "    return clf.best_estimator_"
   ]
  },
  {
   "cell_type": "code",
   "execution_count": null,
   "metadata": {
    "collapsed": false,
    "deletable": true,
    "editable": true
   },
   "outputs": [],
   "source": [
    "def run_models(X, y, models):\n",
    "    X_train, X_test, y_train, y_test = train_test_split(X, y, test_size=0.25, random_state=0)\n",
    "    \n",
    "    l = []\n",
    "    \n",
    "    start_time = time.time()\n",
    "    for model in models:\n",
    "        print('\\nTraining Model', model)\n",
    "        (clf, parameters) = models[model]\n",
    "        l.append(\n",
    "            (model,\n",
    "             pick_best_model_parameters(\n",
    "                 clf,\n",
    "                 parameters,\n",
    "                 X_train,\n",
    "                 y_train)))\n",
    "    \n",
    "    return l, X_test, y_test"
   ]
  },
  {
   "cell_type": "code",
   "execution_count": null,
   "metadata": {
    "collapsed": true,
    "deletable": true,
    "editable": true
   },
   "outputs": [],
   "source": [
    "def get_results(l, X_test, y_test, X_final):\n",
    "    final_preds = {}\n",
    "    model_metrics = {}\n",
    "    for model, clf in l:\n",
    "        y_pred = clf.predict(X_test)\n",
    "        msq = mean_squared_error(y_test, y_pred)\n",
    "        logloss = log_loss(y_test, y_pred)\n",
    "\n",
    "        print('\\nModel: {}\\n'.format(model))\n",
    "        print('Mean Squared Error: {}'.format(msq))\n",
    "        print('Log Loss: {}'.format(logloss))\n",
    "        \n",
    "        y_final_pred = clf.predict(X_final)\n",
    "        y_final_pred = pd.DataFrame(y_final_pred, columns=['probability'])\n",
    "        final_preds[model] = y_final_pred\n",
    "        model_metrics[model] = (msq, logloss)\n",
    "    \n",
    "    model_metrics_df = pd.DataFrame(model_metrics)\n",
    "    return final_preds, model_metrics_df"
   ]
  },
  {
   "cell_type": "code",
   "execution_count": null,
   "metadata": {
    "collapsed": false,
    "deletable": true,
    "editable": true
   },
   "outputs": [],
   "source": [
    "def predictions_csv(ids, final_preds, model_metrics_df, file_path):\n",
    "    for model in final_preds.keys():\n",
    "        df = pd.merge(ids, final_preds[model], left_index=True, right_index=True)\n",
    "        print(df.head())\n",
    "        df.to_csv('{}/predictions.csv'.format(file_path), index=False)\n",
    "        model_metrics_df[model].to_csv('{}/model_metrics.csv'.format(file_path), index=False)"
   ]
  },
  {
   "cell_type": "code",
   "execution_count": null,
   "metadata": {
    "collapsed": true,
    "deletable": true,
    "editable": true
   },
   "outputs": [],
   "source": [
    "def main(top_quant, mh_quant, ml_quant, low_quant, models):\n",
    "    file_path, X, y, X_final, ids = get_files(top_quant, mh_quant, ml_quant, low_quant)\n",
    "    l, X_test, y_test = run_models(X, y, models)\n",
    "    final_preds, model_metrics_df = get_results(l, X_test, y_test, X_final)\n",
    "    predictions_csv(ids, final_preds, model_metrics_df, file_path)"
   ]
  },
  {
   "cell_type": "code",
   "execution_count": null,
   "metadata": {
    "collapsed": true,
    "deletable": true,
    "editable": true
   },
   "outputs": [],
   "source": [
    "#top_quant, mh_quant, ml_quant, low_quant = [0.85, 0.65, 0.35, 0.15]\n",
    "top_quant, mh_quant, ml_quant, low_quant = [0.8, 0.6, 0.4, 0.2]"
   ]
  },
  {
   "cell_type": "code",
   "execution_count": null,
   "metadata": {
    "collapsed": false,
    "deletable": true,
    "editable": true
   },
   "outputs": [],
   "source": [
    "forest_parameters = {'n_estimators': [200, 250, 300],\n",
    "                     'max_features': [\"auto\", 20, 30],\n",
    "                     \"bootstrap\": [True, False],\n",
    "                     \"min_samples_leaf\": [1, 3],\n",
    "                     'max_depth': [5, 10]}\n",
    "SVR_parameters = {'C': [0.5, 0.6, 0.7, 1.0]}\n",
    "grad_parameters = {'n_estimators': [100, 150, 200],\n",
    "                   'max_depth': [3, 10],\n",
    "                   \"max_features\": [None, 1, 5],\n",
    "                   \"max_leaf_nodes\": [None, 5],\n",
    "                   \"warm_start\": [True, False]\n",
    "                   }"
   ]
  },
  {
   "cell_type": "code",
   "execution_count": null,
   "metadata": {
    "collapsed": true,
    "deletable": true,
    "editable": true
   },
   "outputs": [],
   "source": [
    "models = {\n",
    "    'RandomForestRegressor': (RandomForestRegressor(), forest_parameters),\n",
    "    #'GradientBoostingRegressor': (GradientBoostingRegressor(), grad_parameters),\n",
    "    #'SVR': (SVR(), SVR_parameters)\n",
    "}"
   ]
  },
  {
   "cell_type": "code",
   "execution_count": null,
   "metadata": {
    "collapsed": true,
    "deletable": true,
    "editable": true
   },
   "outputs": [],
   "source": [
    "main(top_quant, mh_quant, ml_quant, low_quant, models)"
   ]
  }
 ],
 "metadata": {
  "kernelspec": {
   "display_name": "Python 3",
   "language": "python",
   "name": "python3"
  },
  "language_info": {
   "codemirror_mode": {
    "name": "ipython",
    "version": 3
   },
   "file_extension": ".py",
   "mimetype": "text/x-python",
   "name": "python",
   "nbconvert_exporter": "python",
   "pygments_lexer": "ipython3",
   "version": "3.6.0"
  }
 },
 "nbformat": 4,
 "nbformat_minor": 2
}
